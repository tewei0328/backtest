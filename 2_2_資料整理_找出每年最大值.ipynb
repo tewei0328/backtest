{
  "nbformat": 4,
  "nbformat_minor": 0,
  "metadata": {
    "colab": {
      "name": "2_2_資料整理_找出每年最大值.ipynb",
      "provenance": [],
      "authorship_tag": "ABX9TyPZWT9wQkUVcu2blJDJXE1E",
      "include_colab_link": true
    },
    "kernelspec": {
      "name": "python3",
      "display_name": "Python 3"
    }
  },
  "cells": [
    {
      "cell_type": "markdown",
      "metadata": {
        "id": "view-in-github",
        "colab_type": "text"
      },
      "source": [
        "<a href=\"https://colab.research.google.com/github/tewei0328/backtest/blob/main/2_2_%E8%B3%87%E6%96%99%E6%95%B4%E7%90%86_%E6%89%BE%E5%87%BA%E6%AF%8F%E5%B9%B4%E6%9C%80%E5%A4%A7%E5%80%BC.ipynb\" target=\"_parent\"><img src=\"https://colab.research.google.com/assets/colab-badge.svg\" alt=\"Open In Colab\"/></a>"
      ]
    },
    {
      "cell_type": "code",
      "metadata": {
        "id": "r9YFRAKM4BZz"
      },
      "source": [
        "import pandas_datareader as pdr\r\n",
        "import pandas as pd"
      ],
      "execution_count": 1,
      "outputs": []
    },
    {
      "cell_type": "code",
      "metadata": {
        "id": "WWhrzXCM4FW8"
      },
      "source": [
        "#df = pdr.DataReader('2330.TW', 'yahoo')"
      ],
      "execution_count": null,
      "outputs": []
    },
    {
      "cell_type": "code",
      "metadata": {
        "id": "ubkFgDGTFfAV"
      },
      "source": [
        "#df['ma_short']=df.iloc[:,3].rolling(5).mean()"
      ],
      "execution_count": null,
      "outputs": []
    },
    {
      "cell_type": "code",
      "metadata": {
        "colab": {
          "base_uri": "https://localhost:8080/",
          "height": 286
        },
        "id": "5ZrkwXAUFkXb",
        "outputId": "f0182a3e-7c23-4628-f4fe-6965d40d8f00"
      },
      "source": [
        "startTime = '2000-1-01'\r\n",
        "endTime = '2018-10-30'\r\n",
        "df = pdr.DataReader('2330.TW', 'yahoo', startTime, endTime)\r\n",
        "df.Close.plot()"
      ],
      "execution_count": 2,
      "outputs": [
        {
          "output_type": "execute_result",
          "data": {
            "text/plain": [
              "<matplotlib.axes._subplots.AxesSubplot at 0x7f389b0e6ed0>"
            ]
          },
          "metadata": {
            "tags": []
          },
          "execution_count": 2
        },
        {
          "output_type": "display_data",
          "data": {
            "image/png": "[encoded data removed]",
            "text/plain": [
              "<Figure size 432x288 with 1 Axes>"
            ]
          },
          "metadata": {
            "tags": [],
            "needs_background": "light"
          }
        }
      ]
    },
    {
      "cell_type": "markdown",
      "metadata": {
        "id": "yzdhMnp2HXVt"
      },
      "source": [
        "##找出每月最大和最小值\r\n",
        "https://stackoverflow.com/questions/45156289/pandas-where-is-the-documentation-for-timegrouper"
      ]
    },
    {
      "cell_type": "code",
      "metadata": {
        "colab": {
          "base_uri": "https://localhost:8080/"
        },
        "id": "2LNLZuhzGICs",
        "outputId": "f03a8ad3-ce64-4849-c68a-f38199f9aa36"
      },
      "source": [
        "df.groupby(pd.Grouper(freq='Y')).Close.max()"
      ],
      "execution_count": null,
      "outputs": [
        {
          "output_type": "execute_result",
          "data": {
            "text/plain": [
              "Date\n",
              "2000-12-31     85.691772\n",
              "2001-12-31     62.405197\n",
              "2002-12-31     68.365669\n",
              "2003-12-31     55.148140\n",
              "2004-12-31     52.834366\n",
              "2005-12-31     61.114986\n",
              "2006-12-31     66.888870\n",
              "2007-12-31     72.272415\n",
              "2008-12-31     68.708298\n",
              "2009-12-31     65.000000\n",
              "2010-12-31     72.900002\n",
              "2011-12-31     78.000000\n",
              "2012-12-31     99.199997\n",
              "2013-12-31    115.500000\n",
              "2014-12-31    141.500000\n",
              "2015-12-31    154.500000\n",
              "2016-12-31    193.000000\n",
              "2017-12-31    244.000000\n",
              "2018-12-31    266.000000\n",
              "Freq: A-DEC, Name: Close, dtype: float64"
            ]
          },
          "metadata": {
            "tags": []
          },
          "execution_count": 27
        }
      ]
    },
    {
      "cell_type": "code",
      "metadata": {
        "id": "hQu5_6x5HcoU"
      },
      "source": [
        "df1=df.groupby(pd.Grouper(freq='Y')).Close.max()"
      ],
      "execution_count": 3,
      "outputs": []
    },
    {
      "cell_type": "code",
      "metadata": {
        "id": "OOOfWr8-fEdI",
        "outputId": "4950bf32-d944-488e-8af6-fde97f267690",
        "colab": {
          "base_uri": "https://localhost:8080/"
        }
      },
      "source": [
        "df1"
      ],
      "execution_count": 4,
      "outputs": [
        {
          "output_type": "execute_result",
          "data": {
            "text/plain": [
              "Date\n",
              "2000-12-31     85.691772\n",
              "2001-12-31     62.405197\n",
              "2002-12-31     68.365669\n",
              "2003-12-31     55.148140\n",
              "2004-12-31     52.834366\n",
              "2005-12-31     61.114986\n",
              "2006-12-31     66.888870\n",
              "2007-12-31     72.272415\n",
              "2008-12-31     68.708298\n",
              "2009-12-31     65.000000\n",
              "2010-12-31     72.900002\n",
              "2011-12-31     78.000000\n",
              "2012-12-31     99.199997\n",
              "2013-12-31    115.500000\n",
              "2014-12-31    141.500000\n",
              "2015-12-31    154.500000\n",
              "2016-12-31    193.000000\n",
              "2017-12-31    244.000000\n",
              "2018-12-31    266.000000\n",
              "Freq: A-DEC, Name: Close, dtype: float64"
            ]
          },
          "metadata": {
            "tags": []
          },
          "execution_count": 4
        }
      ]
    },
    {
      "cell_type": "code",
      "metadata": {
        "id": "ioHxYGlGfIJX",
        "outputId": "eb39fd29-654e-4070-8a2a-2c558cc34a8a",
        "colab": {
          "base_uri": "https://localhost:8080/"
        }
      },
      "source": [
        "type(df1)"
      ],
      "execution_count": 5,
      "outputs": [
        {
          "output_type": "execute_result",
          "data": {
            "text/plain": [
              "pandas.core.series.Series"
            ]
          },
          "metadata": {
            "tags": []
          },
          "execution_count": 5
        }
      ]
    },
    {
      "cell_type": "code",
      "metadata": {
        "id": "rNC3dbl1fnyZ",
        "outputId": "7bda6198-df3c-4ab6-ba50-454bc73bb70b",
        "colab": {
          "base_uri": "https://localhost:8080/"
        }
      },
      "source": [
        "type(df)"
      ],
      "execution_count": 8,
      "outputs": [
        {
          "output_type": "execute_result",
          "data": {
            "text/plain": [
              "pandas.core.frame.DataFrame"
            ]
          },
          "metadata": {
            "tags": []
          },
          "execution_count": 8
        }
      ]
    },
    {
      "cell_type": "markdown",
      "metadata": {
        "id": "HwQHvz3jGxNM"
      },
      "source": [
        "##使用idxmax将得到最大价格的相应日期。\r\n",
        "https://www.coder.work/article/2414505?fbclid=IwAR3OtwlOY06hKRzFzqde3B2iuZO-LoM-ezNG4l9MgPrcI6zGurZ7YQua1bw"
      ]
    },
    {
      "cell_type": "code",
      "metadata": {
        "colab": {
          "base_uri": "https://localhost:8080/"
        },
        "id": "-lwCTy7WGvNM",
        "outputId": "89bcad4e-d8b2-4e3e-8ffa-b47581ab2972"
      },
      "source": [
        "df.groupby(pd.Grouper(freq='Y')).Close.idxmax()"
      ],
      "execution_count": null,
      "outputs": [
        {
          "output_type": "execute_result",
          "data": {
            "text/plain": [
              "Date\n",
              "2000-12-31   2000-02-11\n",
              "2001-12-31   2001-12-06\n",
              "2002-12-31   2002-03-11\n",
              "2003-12-31   2003-09-17\n",
              "2004-12-31   2004-01-27\n",
              "2005-12-31   2005-12-23\n",
              "2006-12-31   2006-12-06\n",
              "2007-12-31   2007-07-13\n",
              "2008-12-31   2008-05-19\n",
              "2009-12-31   2009-10-01\n",
              "2010-12-31   2010-12-17\n",
              "2011-12-31   2011-01-19\n",
              "2012-12-31   2012-12-13\n",
              "2013-12-31   2013-05-14\n",
              "2014-12-31   2014-11-28\n",
              "2015-12-31   2015-02-25\n",
              "2016-12-31   2016-10-25\n",
              "2017-12-31   2017-11-07\n",
              "2018-12-31   2018-01-23\n",
              "Freq: A-DEC, Name: Close, dtype: datetime64[ns]"
            ]
          },
          "metadata": {
            "tags": []
          },
          "execution_count": 29
        }
      ]
    },
    {
      "cell_type": "code",
      "metadata": {
        "id": "28Zt6DjYfRNC"
      },
      "source": [
        "df2=df.groupby(pd.Grouper(freq='Y')).Close.idxmax()"
      ],
      "execution_count": 6,
      "outputs": []
    },
    {
      "cell_type": "code",
      "metadata": {
        "id": "nllaw6iFfWQ3",
        "outputId": "f8cd9084-1ced-49df-8471-03617138a6e0",
        "colab": {
          "base_uri": "https://localhost:8080/"
        }
      },
      "source": [
        "type(df2)"
      ],
      "execution_count": 7,
      "outputs": [
        {
          "output_type": "execute_result",
          "data": {
            "text/plain": [
              "pandas.core.series.Series"
            ]
          },
          "metadata": {
            "tags": []
          },
          "execution_count": 7
        }
      ]
    },
    {
      "cell_type": "code",
      "metadata": {
        "id": "tZBdrlq4f_fS"
      },
      "source": [
        "df3=df1.to_frame()"
      ],
      "execution_count": 10,
      "outputs": []
    },
    {
      "cell_type": "code",
      "metadata": {
        "id": "VJGPd3KogEnX",
        "outputId": "bf1d23ce-af57-48b1-c446-539d1a01c508",
        "colab": {
          "base_uri": "https://localhost:8080/"
        }
      },
      "source": [
        "type(df3)"
      ],
      "execution_count": 12,
      "outputs": [
        {
          "output_type": "execute_result",
          "data": {
            "text/plain": [
              "pandas.core.frame.DataFrame"
            ]
          },
          "metadata": {
            "tags": []
          },
          "execution_count": 12
        }
      ]
    },
    {
      "cell_type": "code",
      "metadata": {
        "id": "NrdbM9GFHGL9"
      },
      "source": [
        "df3['max date']=df.groupby(pd.Grouper(freq='Y')).Close.idxmax()"
      ],
      "execution_count": 13,
      "outputs": []
    },
    {
      "cell_type": "code",
      "metadata": {
        "colab": {
          "base_uri": "https://localhost:8080/",
          "height": 669
        },
        "id": "wwRQR4BzHL_M",
        "outputId": "61a5904a-d7f3-4501-dce0-7977749bc34f"
      },
      "source": [
        "df3"
      ],
      "execution_count": 14,
      "outputs": [
        {
          "output_type": "execute_result",
          "data": {
            "text/html": [
              "<div>\n",
              "<style scoped>\n",
              "    .dataframe tbody tr th:only-of-type {\n",
              "        vertical-align: middle;\n",
              "    }\n",
              "\n",
              "    .dataframe tbody tr th {\n",
              "        vertical-align: top;\n",
              "    }\n",
              "\n",
              "    .dataframe thead th {\n",
              "        text-align: right;\n",
              "    }\n",
              "</style>\n",
              "<table border=\"1\" class=\"dataframe\">\n",
              "  <thead>\n",
              "    <tr style=\"text-align: right;\">\n",
              "      <th></th>\n",
              "      <th>Close</th>\n",
              "      <th>max date</th>\n",
              "    </tr>\n",
              "    <tr>\n",
              "      <th>Date</th>\n",
              "      <th></th>\n",
              "      <th></th>\n",
              "    </tr>\n",
              "  </thead>\n",
              "  <tbody>\n",
              "    <tr>\n",
              "      <th>2000-12-31</th>\n",
              "      <td>85.691772</td>\n",
              "      <td>2000-02-11</td>\n",
              "    </tr>\n",
              "    <tr>\n",
              "      <th>2001-12-31</th>\n",
              "      <td>62.405197</td>\n",
              "      <td>2001-12-06</td>\n",
              "    </tr>\n",
              "    <tr>\n",
              "      <th>2002-12-31</th>\n",
              "      <td>68.365669</td>\n",
              "      <td>2002-03-11</td>\n",
              "    </tr>\n",
              "    <tr>\n",
              "      <th>2003-12-31</th>\n",
              "      <td>55.148140</td>\n",
              "      <td>2003-09-17</td>\n",
              "    </tr>\n",
              "    <tr>\n",
              "      <th>2004-12-31</th>\n",
              "      <td>52.834366</td>\n",
              "      <td>2004-01-27</td>\n",
              "    </tr>\n",
              "    <tr>\n",
              "      <th>2005-12-31</th>\n",
              "      <td>61.114986</td>\n",
              "      <td>2005-12-23</td>\n",
              "    </tr>\n",
              "    <tr>\n",
              "      <th>2006-12-31</th>\n",
              "      <td>66.888870</td>\n",
              "      <td>2006-12-06</td>\n",
              "    </tr>\n",
              "    <tr>\n",
              "      <th>2007-12-31</th>\n",
              "      <td>72.272415</td>\n",
              "      <td>2007-07-13</td>\n",
              "    </tr>\n",
              "    <tr>\n",
              "      <th>2008-12-31</th>\n",
              "      <td>68.708298</td>\n",
              "      <td>2008-05-19</td>\n",
              "    </tr>\n",
              "    <tr>\n",
              "      <th>2009-12-31</th>\n",
              "      <td>65.000000</td>\n",
              "      <td>2009-10-01</td>\n",
              "    </tr>\n",
              "    <tr>\n",
              "      <th>2010-12-31</th>\n",
              "      <td>72.900002</td>\n",
              "      <td>2010-12-17</td>\n",
              "    </tr>\n",
              "    <tr>\n",
              "      <th>2011-12-31</th>\n",
              "      <td>78.000000</td>\n",
              "      <td>2011-01-19</td>\n",
              "    </tr>\n",
              "    <tr>\n",
              "      <th>2012-12-31</th>\n",
              "      <td>99.199997</td>\n",
              "      <td>2012-12-13</td>\n",
              "    </tr>\n",
              "    <tr>\n",
              "      <th>2013-12-31</th>\n",
              "      <td>115.500000</td>\n",
              "      <td>2013-05-14</td>\n",
              "    </tr>\n",
              "    <tr>\n",
              "      <th>2014-12-31</th>\n",
              "      <td>141.500000</td>\n",
              "      <td>2014-11-28</td>\n",
              "    </tr>\n",
              "    <tr>\n",
              "      <th>2015-12-31</th>\n",
              "      <td>154.500000</td>\n",
              "      <td>2015-02-25</td>\n",
              "    </tr>\n",
              "    <tr>\n",
              "      <th>2016-12-31</th>\n",
              "      <td>193.000000</td>\n",
              "      <td>2016-10-25</td>\n",
              "    </tr>\n",
              "    <tr>\n",
              "      <th>2017-12-31</th>\n",
              "      <td>244.000000</td>\n",
              "      <td>2017-11-07</td>\n",
              "    </tr>\n",
              "    <tr>\n",
              "      <th>2018-12-31</th>\n",
              "      <td>266.000000</td>\n",
              "      <td>2018-01-23</td>\n",
              "    </tr>\n",
              "  </tbody>\n",
              "</table>\n",
              "</div>"
            ],
            "text/plain": [
              "                 Close   max date\n",
              "Date                             \n",
              "2000-12-31   85.691772 2000-02-11\n",
              "2001-12-31   62.405197 2001-12-06\n",
              "2002-12-31   68.365669 2002-03-11\n",
              "2003-12-31   55.148140 2003-09-17\n",
              "2004-12-31   52.834366 2004-01-27\n",
              "2005-12-31   61.114986 2005-12-23\n",
              "2006-12-31   66.888870 2006-12-06\n",
              "2007-12-31   72.272415 2007-07-13\n",
              "2008-12-31   68.708298 2008-05-19\n",
              "2009-12-31   65.000000 2009-10-01\n",
              "2010-12-31   72.900002 2010-12-17\n",
              "2011-12-31   78.000000 2011-01-19\n",
              "2012-12-31   99.199997 2012-12-13\n",
              "2013-12-31  115.500000 2013-05-14\n",
              "2014-12-31  141.500000 2014-11-28\n",
              "2015-12-31  154.500000 2015-02-25\n",
              "2016-12-31  193.000000 2016-10-25\n",
              "2017-12-31  244.000000 2017-11-07\n",
              "2018-12-31  266.000000 2018-01-23"
            ]
          },
          "metadata": {
            "tags": []
          },
          "execution_count": 14
        }
      ]
    },
    {
      "cell_type": "code",
      "metadata": {
        "id": "GOtPMeZPHMUD"
      },
      "source": [
        "df3.index=df3['max date']"
      ],
      "execution_count": 15,
      "outputs": []
    },
    {
      "cell_type": "code",
      "metadata": {
        "id": "Ai0vyWZxgkbi",
        "outputId": "8da1c1b9-49b4-4ac5-a662-778d596063e9",
        "colab": {
          "base_uri": "https://localhost:8080/",
          "height": 669
        }
      },
      "source": [
        "df3"
      ],
      "execution_count": 16,
      "outputs": [
        {
          "output_type": "execute_result",
          "data": {
            "text/html": [
              "<div>\n",
              "<style scoped>\n",
              "    .dataframe tbody tr th:only-of-type {\n",
              "        vertical-align: middle;\n",
              "    }\n",
              "\n",
              "    .dataframe tbody tr th {\n",
              "        vertical-align: top;\n",
              "    }\n",
              "\n",
              "    .dataframe thead th {\n",
              "        text-align: right;\n",
              "    }\n",
              "</style>\n",
              "<table border=\"1\" class=\"dataframe\">\n",
              "  <thead>\n",
              "    <tr style=\"text-align: right;\">\n",
              "      <th></th>\n",
              "      <th>Close</th>\n",
              "      <th>max date</th>\n",
              "    </tr>\n",
              "    <tr>\n",
              "      <th>max date</th>\n",
              "      <th></th>\n",
              "      <th></th>\n",
              "    </tr>\n",
              "  </thead>\n",
              "  <tbody>\n",
              "    <tr>\n",
              "      <th>2000-02-11</th>\n",
              "      <td>85.691772</td>\n",
              "      <td>2000-02-11</td>\n",
              "    </tr>\n",
              "    <tr>\n",
              "      <th>2001-12-06</th>\n",
              "      <td>62.405197</td>\n",
              "      <td>2001-12-06</td>\n",
              "    </tr>\n",
              "    <tr>\n",
              "      <th>2002-03-11</th>\n",
              "      <td>68.365669</td>\n",
              "      <td>2002-03-11</td>\n",
              "    </tr>\n",
              "    <tr>\n",
              "      <th>2003-09-17</th>\n",
              "      <td>55.148140</td>\n",
              "      <td>2003-09-17</td>\n",
              "    </tr>\n",
              "    <tr>\n",
              "      <th>2004-01-27</th>\n",
              "      <td>52.834366</td>\n",
              "      <td>2004-01-27</td>\n",
              "    </tr>\n",
              "    <tr>\n",
              "      <th>2005-12-23</th>\n",
              "      <td>61.114986</td>\n",
              "      <td>2005-12-23</td>\n",
              "    </tr>\n",
              "    <tr>\n",
              "      <th>2006-12-06</th>\n",
              "      <td>66.888870</td>\n",
              "      <td>2006-12-06</td>\n",
              "    </tr>\n",
              "    <tr>\n",
              "      <th>2007-07-13</th>\n",
              "      <td>72.272415</td>\n",
              "      <td>2007-07-13</td>\n",
              "    </tr>\n",
              "    <tr>\n",
              "      <th>2008-05-19</th>\n",
              "      <td>68.708298</td>\n",
              "      <td>2008-05-19</td>\n",
              "    </tr>\n",
              "    <tr>\n",
              "      <th>2009-10-01</th>\n",
              "      <td>65.000000</td>\n",
              "      <td>2009-10-01</td>\n",
              "    </tr>\n",
              "    <tr>\n",
              "      <th>2010-12-17</th>\n",
              "      <td>72.900002</td>\n",
              "      <td>2010-12-17</td>\n",
              "    </tr>\n",
              "    <tr>\n",
              "      <th>2011-01-19</th>\n",
              "      <td>78.000000</td>\n",
              "      <td>2011-01-19</td>\n",
              "    </tr>\n",
              "    <tr>\n",
              "      <th>2012-12-13</th>\n",
              "      <td>99.199997</td>\n",
              "      <td>2012-12-13</td>\n",
              "    </tr>\n",
              "    <tr>\n",
              "      <th>2013-05-14</th>\n",
              "      <td>115.500000</td>\n",
              "      <td>2013-05-14</td>\n",
              "    </tr>\n",
              "    <tr>\n",
              "      <th>2014-11-28</th>\n",
              "      <td>141.500000</td>\n",
              "      <td>2014-11-28</td>\n",
              "    </tr>\n",
              "    <tr>\n",
              "      <th>2015-02-25</th>\n",
              "      <td>154.500000</td>\n",
              "      <td>2015-02-25</td>\n",
              "    </tr>\n",
              "    <tr>\n",
              "      <th>2016-10-25</th>\n",
              "      <td>193.000000</td>\n",
              "      <td>2016-10-25</td>\n",
              "    </tr>\n",
              "    <tr>\n",
              "      <th>2017-11-07</th>\n",
              "      <td>244.000000</td>\n",
              "      <td>2017-11-07</td>\n",
              "    </tr>\n",
              "    <tr>\n",
              "      <th>2018-01-23</th>\n",
              "      <td>266.000000</td>\n",
              "      <td>2018-01-23</td>\n",
              "    </tr>\n",
              "  </tbody>\n",
              "</table>\n",
              "</div>"
            ],
            "text/plain": [
              "                 Close   max date\n",
              "max date                         \n",
              "2000-02-11   85.691772 2000-02-11\n",
              "2001-12-06   62.405197 2001-12-06\n",
              "2002-03-11   68.365669 2002-03-11\n",
              "2003-09-17   55.148140 2003-09-17\n",
              "2004-01-27   52.834366 2004-01-27\n",
              "2005-12-23   61.114986 2005-12-23\n",
              "2006-12-06   66.888870 2006-12-06\n",
              "2007-07-13   72.272415 2007-07-13\n",
              "2008-05-19   68.708298 2008-05-19\n",
              "2009-10-01   65.000000 2009-10-01\n",
              "2010-12-17   72.900002 2010-12-17\n",
              "2011-01-19   78.000000 2011-01-19\n",
              "2012-12-13   99.199997 2012-12-13\n",
              "2013-05-14  115.500000 2013-05-14\n",
              "2014-11-28  141.500000 2014-11-28\n",
              "2015-02-25  154.500000 2015-02-25\n",
              "2016-10-25  193.000000 2016-10-25\n",
              "2017-11-07  244.000000 2017-11-07\n",
              "2018-01-23  266.000000 2018-01-23"
            ]
          },
          "metadata": {
            "tags": []
          },
          "execution_count": 16
        }
      ]
    },
    {
      "cell_type": "code",
      "metadata": {
        "id": "vhTGLPYMgk-A"
      },
      "source": [
        ""
      ],
      "execution_count": null,
      "outputs": []
    }
  ]
}