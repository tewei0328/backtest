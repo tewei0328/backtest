{
  "nbformat": 4,
  "nbformat_minor": 0,
  "metadata": {
    "colab": {
      "name": "4_TA-lib-ADX-RSI.ipynb",
      "provenance": [],
      "authorship_tag": "ABX9TyOzudZ6gkaHbxR1Kcyvwn6t",
      "include_colab_link": true
    },
    "kernelspec": {
      "name": "python3",
      "display_name": "Python 3"
    }
  },
  "cells": [
    {
      "cell_type": "markdown",
      "metadata": {
        "id": "view-in-github",
        "colab_type": "text"
      },
      "source": [
        "<a href=\"https://colab.research.google.com/github/tewei0328/backtest/blob/main/4_TA_lib_ADX_RSI.ipynb\" target=\"_parent\"><img src=\"https://colab.research.google.com/assets/colab-badge.svg\" alt=\"Open In Colab\"/></a>"
      ]
    },
    {
      "cell_type": "markdown",
      "metadata": {
        "id": "-MSMdHV0hihs"
      },
      "source": [
        "#參考資料: 用 Python 快速計算 158 種技術指標！\r\n",
        "https://medium.com/ai%E8%82%A1%E4%BB%94/%E7%94%A8-python-%E5%BF%AB%E9%80%9F%E8%A8%88%E7%AE%97-158-%E7%A8%AE%E6%8A%80%E8%A1%93%E6%8C%87%E6%A8%99-26f9579b8f3a"
      ]
    },
    {
      "cell_type": "markdown",
      "metadata": {
        "id": "nN_hPCOTTXUz"
      },
      "source": [
        "#1.安裝TA-lib"
      ]
    },
    {
      "cell_type": "code",
      "metadata": {
        "id": "cQRMax7eTJMr"
      },
      "source": [
        "!wget http://prdownloads.sourceforge.net/ta-lib/ta-lib-0.4.0-src.tar.gz\r\n",
        "!tar -xzvf ta-lib-0.4.0-src.tar.gz\r\n",
        "%cd ta-lib\r\n",
        "!./configure --prefix=/usr\r\n",
        "!make\r\n",
        "!make install\r\n",
        "!pip install Ta-Lib"
      ],
      "execution_count": null,
      "outputs": []
    },
    {
      "cell_type": "markdown",
      "metadata": {
        "id": "Lr63G0-lUHHf"
      },
      "source": [
        "#2.載入TA-Lib等套件 "
      ]
    },
    {
      "cell_type": "code",
      "metadata": {
        "id": "A_Le6DYoUAG0"
      },
      "source": [
        "import numpy as np\r\n",
        "import pandas as pd\r\n",
        "import talib"
      ],
      "execution_count": 2,
      "outputs": []
    },
    {
      "cell_type": "code",
      "metadata": {
        "colab": {
          "base_uri": "https://localhost:8080/"
        },
        "id": "QpCo88h5UWKg",
        "outputId": "5803e28b-bed5-4e3f-80ba-9ba647e4eb7a"
      },
      "source": [
        "# 透過『get_functions』語法，查看 TA-Lib 提供的所有技術指標的代碼\r\n",
        "all_ta_label = talib.get_functions()\r\n",
        "# 看一下清單\r\n",
        "all_ta_label\r\n",
        "# 共有 158 個技術指標可以運算\r\n",
        "len(all_ta_label)"
      ],
      "execution_count": 3,
      "outputs": [
        {
          "output_type": "execute_result",
          "data": {
            "text/plain": [
              "158"
            ]
          },
          "metadata": {
            "tags": []
          },
          "execution_count": 3
        }
      ]
    },
    {
      "cell_type": "code",
      "metadata": {
        "colab": {
          "base_uri": "https://localhost:8080/",
          "height": 359
        },
        "id": "YBFYFDztUcCd",
        "outputId": "b88db20e-d688-4bbc-aa93-d3805e05fff5"
      },
      "source": [
        "# 透過『get_function_groups』，取得分類後的技術指標清單\r\n",
        "all_ta_groups = talib.get_function_groups()\r\n",
        "# 看一下這個字典\r\n",
        "all_ta_groups\r\n",
        "# 有哪些大類別？\r\n",
        "all_ta_groups.keys()\r\n",
        "# 查看某類別底下的技術指標清單\r\n",
        "all_ta_groups['Momentum Indicators']\r\n",
        "# 查看所有類別的指標數量\r\n",
        "table = pd.DataFrame({\r\n",
        "            '技術指標類別名稱': list(all_ta_groups.keys()),\r\n",
        "            '該類別指標總數': list(map(lambda x: len(x), all_ta_groups.values()))\r\n",
        "        })\r\n",
        "table"
      ],
      "execution_count": 5,
      "outputs": [
        {
          "output_type": "execute_result",
          "data": {
            "text/html": [
              "<div>\n",
              "<style scoped>\n",
              "    .dataframe tbody tr th:only-of-type {\n",
              "        vertical-align: middle;\n",
              "    }\n",
              "\n",
              "    .dataframe tbody tr th {\n",
              "        vertical-align: top;\n",
              "    }\n",
              "\n",
              "    .dataframe thead th {\n",
              "        text-align: right;\n",
              "    }\n",
              "</style>\n",
              "<table border=\"1\" class=\"dataframe\">\n",
              "  <thead>\n",
              "    <tr style=\"text-align: right;\">\n",
              "      <th></th>\n",
              "      <th>技術指標類別名稱</th>\n",
              "      <th>該類別指標總數</th>\n",
              "    </tr>\n",
              "  </thead>\n",
              "  <tbody>\n",
              "    <tr>\n",
              "      <th>0</th>\n",
              "      <td>Cycle Indicators</td>\n",
              "      <td>5</td>\n",
              "    </tr>\n",
              "    <tr>\n",
              "      <th>1</th>\n",
              "      <td>Math Operators</td>\n",
              "      <td>11</td>\n",
              "    </tr>\n",
              "    <tr>\n",
              "      <th>2</th>\n",
              "      <td>Math Transform</td>\n",
              "      <td>15</td>\n",
              "    </tr>\n",
              "    <tr>\n",
              "      <th>3</th>\n",
              "      <td>Momentum Indicators</td>\n",
              "      <td>30</td>\n",
              "    </tr>\n",
              "    <tr>\n",
              "      <th>4</th>\n",
              "      <td>Overlap Studies</td>\n",
              "      <td>17</td>\n",
              "    </tr>\n",
              "    <tr>\n",
              "      <th>5</th>\n",
              "      <td>Pattern Recognition</td>\n",
              "      <td>61</td>\n",
              "    </tr>\n",
              "    <tr>\n",
              "      <th>6</th>\n",
              "      <td>Price Transform</td>\n",
              "      <td>4</td>\n",
              "    </tr>\n",
              "    <tr>\n",
              "      <th>7</th>\n",
              "      <td>Statistic Functions</td>\n",
              "      <td>9</td>\n",
              "    </tr>\n",
              "    <tr>\n",
              "      <th>8</th>\n",
              "      <td>Volatility Indicators</td>\n",
              "      <td>3</td>\n",
              "    </tr>\n",
              "    <tr>\n",
              "      <th>9</th>\n",
              "      <td>Volume Indicators</td>\n",
              "      <td>3</td>\n",
              "    </tr>\n",
              "  </tbody>\n",
              "</table>\n",
              "</div>"
            ],
            "text/plain": [
              "                技術指標類別名稱  該類別指標總數\n",
              "0       Cycle Indicators        5\n",
              "1         Math Operators       11\n",
              "2         Math Transform       15\n",
              "3    Momentum Indicators       30\n",
              "4        Overlap Studies       17\n",
              "5    Pattern Recognition       61\n",
              "6        Price Transform        4\n",
              "7    Statistic Functions        9\n",
              "8  Volatility Indicators        3\n",
              "9      Volume Indicators        3"
            ]
          },
          "metadata": {
            "tags": []
          },
          "execution_count": 5
        }
      ]
    },
    {
      "cell_type": "markdown",
      "metadata": {
        "id": "jo6dmEm9iHKV"
      },
      "source": [
        "#4.用Remote Data Access爬蟲台積電股價"
      ]
    },
    {
      "cell_type": "code",
      "metadata": {
        "id": "Xj5sTcA4UiDo"
      },
      "source": [
        "import pandas_datareader as pdr\r\n",
        "df = pdr.DataReader('2330.TW', 'yahoo')"
      ],
      "execution_count": 9,
      "outputs": []
    },
    {
      "cell_type": "code",
      "metadata": {
        "colab": {
          "base_uri": "https://localhost:8080/",
          "height": 297
        },
        "id": "waNGX9ZBiSzB",
        "outputId": "161b1b6d-2864-4748-d49d-3edf25192d08"
      },
      "source": [
        "df.plot()"
      ],
      "execution_count": 10,
      "outputs": [
        {
          "output_type": "execute_result",
          "data": {
            "text/plain": [
              "<matplotlib.axes._subplots.AxesSubplot at 0x7f8e204939d0>"
            ]
          },
          "metadata": {
            "tags": []
          },
          "execution_count": 10
        },
        {
          "output_type": "display_data",
          "data": {
            "image/png": "[encoded data removed]",
            "text/plain": [
              "<Figure size 432x288 with 1 Axes>"
            ]
          },
          "metadata": {
            "tags": [],
            "needs_background": "light"
          }
        }
      ]
    },
    {
      "cell_type": "code",
      "metadata": {
        "colab": {
          "base_uri": "https://localhost:8080/",
          "height": 235
        },
        "id": "WxEW22VqjYB4",
        "outputId": "c50e6e79-cf4f-407b-ed31-562f820bbb4f"
      },
      "source": [
        "df.head()"
      ],
      "execution_count": 11,
      "outputs": [
        {
          "output_type": "execute_result",
          "data": {
            "text/html": [
              "<div>\n",
              "<style scoped>\n",
              "    .dataframe tbody tr th:only-of-type {\n",
              "        vertical-align: middle;\n",
              "    }\n",
              "\n",
              "    .dataframe tbody tr th {\n",
              "        vertical-align: top;\n",
              "    }\n",
              "\n",
              "    .dataframe thead th {\n",
              "        text-align: right;\n",
              "    }\n",
              "</style>\n",
              "<table border=\"1\" class=\"dataframe\">\n",
              "  <thead>\n",
              "    <tr style=\"text-align: right;\">\n",
              "      <th></th>\n",
              "      <th>High</th>\n",
              "      <th>Low</th>\n",
              "      <th>Open</th>\n",
              "      <th>Close</th>\n",
              "      <th>Volume</th>\n",
              "      <th>Adj Close</th>\n",
              "    </tr>\n",
              "    <tr>\n",
              "      <th>Date</th>\n",
              "      <th></th>\n",
              "      <th></th>\n",
              "      <th></th>\n",
              "      <th></th>\n",
              "      <th></th>\n",
              "      <th></th>\n",
              "    </tr>\n",
              "  </thead>\n",
              "  <tbody>\n",
              "    <tr>\n",
              "      <th>2016-03-07</th>\n",
              "      <td>153.5</td>\n",
              "      <td>151.0</td>\n",
              "      <td>152.5</td>\n",
              "      <td>152.0</td>\n",
              "      <td>23906000.0</td>\n",
              "      <td>126.634277</td>\n",
              "    </tr>\n",
              "    <tr>\n",
              "      <th>2016-03-08</th>\n",
              "      <td>152.0</td>\n",
              "      <td>149.5</td>\n",
              "      <td>151.0</td>\n",
              "      <td>152.0</td>\n",
              "      <td>35683000.0</td>\n",
              "      <td>126.634277</td>\n",
              "    </tr>\n",
              "    <tr>\n",
              "      <th>2016-03-09</th>\n",
              "      <td>153.0</td>\n",
              "      <td>150.5</td>\n",
              "      <td>152.0</td>\n",
              "      <td>153.0</td>\n",
              "      <td>24004000.0</td>\n",
              "      <td>127.467392</td>\n",
              "    </tr>\n",
              "    <tr>\n",
              "      <th>2016-03-10</th>\n",
              "      <td>154.5</td>\n",
              "      <td>151.5</td>\n",
              "      <td>153.0</td>\n",
              "      <td>154.5</td>\n",
              "      <td>28302000.0</td>\n",
              "      <td>128.717087</td>\n",
              "    </tr>\n",
              "    <tr>\n",
              "      <th>2016-03-11</th>\n",
              "      <td>155.0</td>\n",
              "      <td>153.0</td>\n",
              "      <td>154.5</td>\n",
              "      <td>155.0</td>\n",
              "      <td>29566000.0</td>\n",
              "      <td>129.133667</td>\n",
              "    </tr>\n",
              "  </tbody>\n",
              "</table>\n",
              "</div>"
            ],
            "text/plain": [
              "             High    Low   Open  Close      Volume   Adj Close\n",
              "Date                                                          \n",
              "2016-03-07  153.5  151.0  152.5  152.0  23906000.0  126.634277\n",
              "2016-03-08  152.0  149.5  151.0  152.0  35683000.0  126.634277\n",
              "2016-03-09  153.0  150.5  152.0  153.0  24004000.0  127.467392\n",
              "2016-03-10  154.5  151.5  153.0  154.5  28302000.0  128.717087\n",
              "2016-03-11  155.0  153.0  154.5  155.0  29566000.0  129.133667"
            ]
          },
          "metadata": {
            "tags": []
          },
          "execution_count": 11
        }
      ]
    },
    {
      "cell_type": "markdown",
      "metadata": {
        "id": "Kd1Zd2k7ji2z"
      },
      "source": [
        "##5.用TA-Lib計算ADX指標"
      ]
    },
    {
      "cell_type": "code",
      "metadata": {
        "colab": {
          "base_uri": "https://localhost:8080/"
        },
        "id": "8bqExDXTjKrH",
        "outputId": "33de300e-9ca6-4b49-fe65-7e53736967bc"
      },
      "source": [
        "talib.ADX(df.High, df.Low, df.Close, timeperiod = 14)"
      ],
      "execution_count": 16,
      "outputs": [
        {
          "output_type": "execute_result",
          "data": {
            "text/plain": [
              "Date\n",
              "2016-03-07          NaN\n",
              "2016-03-08          NaN\n",
              "2016-03-09          NaN\n",
              "2016-03-10          NaN\n",
              "2016-03-11          NaN\n",
              "                ...    \n",
              "2021-02-26    37.561133\n",
              "2021-03-02    35.011146\n",
              "2021-03-03    32.780134\n",
              "2021-03-04    30.708480\n",
              "2021-03-05    29.609851\n",
              "Length: 1218, dtype: float64"
            ]
          },
          "metadata": {
            "tags": []
          },
          "execution_count": 16
        }
      ]
    },
    {
      "cell_type": "code",
      "metadata": {
        "id": "sBBemseYj4Nt"
      },
      "source": [
        "adx=talib.ADX(df.High, df.Low, df.Close, timeperiod = 14)"
      ],
      "execution_count": 15,
      "outputs": []
    },
    {
      "cell_type": "code",
      "metadata": {
        "colab": {
          "base_uri": "https://localhost:8080/",
          "height": 286
        },
        "id": "HSWE2qycjuSA",
        "outputId": "866e1449-53c0-41d1-e664-6397a6cad415"
      },
      "source": [
        "adx.plot()"
      ],
      "execution_count": 14,
      "outputs": [
        {
          "output_type": "execute_result",
          "data": {
            "text/plain": [
              "<matplotlib.axes._subplots.AxesSubplot at 0x7f8e1fe6a0d0>"
            ]
          },
          "metadata": {
            "tags": []
          },
          "execution_count": 14
        },
        {
          "output_type": "display_data",
          "data": {
            "image/png": "[encoded data removed]",
            "text/plain": [
              "<Figure size 432x288 with 1 Axes>"
            ]
          },
          "metadata": {
            "tags": [],
            "needs_background": "light"
          }
        }
      ]
    },
    {
      "cell_type": "code",
      "metadata": {
        "id": "3xV8T17jj0yx"
      },
      "source": [
        ""
      ],
      "execution_count": null,
      "outputs": []
    }
  ]
}