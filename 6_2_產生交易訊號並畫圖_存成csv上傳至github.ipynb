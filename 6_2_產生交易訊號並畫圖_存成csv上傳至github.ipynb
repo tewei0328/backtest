{
  "nbformat": 4,
  "nbformat_minor": 0,
  "metadata": {
    "colab": {
      "name": "6-1_產生交易訊號並畫圖.ipynb",
      "provenance": [],
      "authorship_tag": "ABX9TyMhMYkAUkoU3Mxdz6F5dma9",
      "include_colab_link": true
    },
    "kernelspec": {
      "name": "python3",
      "display_name": "Python 3"
    }
  },
  "cells": [
    {
      "cell_type": "markdown",
      "metadata": {
        "id": "view-in-github",
        "colab_type": "text"
      },
      "source": [
        "<a href=\"https://colab.research.google.com/github/tewei0328/backtest/blob/main/6_2_%E7%94%A2%E7%94%9F%E4%BA%A4%E6%98%93%E8%A8%8A%E8%99%9F%E4%B8%A6%E7%95%AB%E5%9C%96_%E5%AD%98%E6%88%90csv%E4%B8%8A%E5%82%B3%E8%87%B3github.ipynb\" target=\"_parent\"><img src=\"https://colab.research.google.com/assets/colab-badge.svg\" alt=\"Open In Colab\"/></a>"
      ]
    },
    {
      "cell_type": "code",
      "metadata": {
        "colab": {
          "base_uri": "https://localhost:8080/"
        },
        "id": "tt0O_mxl0q9l",
        "outputId": "3c30304b-9dad-4974-d3fe-5404a1001bb8"
      },
      "source": [
        "1+1"
      ],
      "execution_count": 4,
      "outputs": [
        {
          "output_type": "execute_result",
          "data": {
            "text/plain": [
              "2"
            ]
          },
          "metadata": {
            "tags": []
          },
          "execution_count": 4
        }
      ]
    },
    {
      "cell_type": "code",
      "metadata": {
        "id": "qO3M5zW30wUK"
      },
      "source": [
        "import pandas_datareader as pdr"
      ],
      "execution_count": 5,
      "outputs": []
    },
    {
      "cell_type": "code",
      "metadata": {
        "id": "hC-tzQoD0wWq"
      },
      "source": [
        "df = pdr.DataReader('2330.TW', 'yahoo')"
      ],
      "execution_count": 6,
      "outputs": []
    },
    {
      "cell_type": "code",
      "metadata": {
        "colab": {
          "base_uri": "https://localhost:8080/",
          "height": 446
        },
        "id": "rnF0XWT50wYy",
        "outputId": "ee0b45d4-2235-4062-b088-6873e17e2a77"
      },
      "source": [
        "df"
      ],
      "execution_count": 7,
      "outputs": [
        {
          "output_type": "execute_result",
          "data": {
            "text/html": [
              "<div>\n",
              "<style scoped>\n",
              "    .dataframe tbody tr th:only-of-type {\n",
              "        vertical-align: middle;\n",
              "    }\n",
              "\n",
              "    .dataframe tbody tr th {\n",
              "        vertical-align: top;\n",
              "    }\n",
              "\n",
              "    .dataframe thead th {\n",
              "        text-align: right;\n",
              "    }\n",
              "</style>\n",
              "<table border=\"1\" class=\"dataframe\">\n",
              "  <thead>\n",
              "    <tr style=\"text-align: right;\">\n",
              "      <th></th>\n",
              "      <th>High</th>\n",
              "      <th>Low</th>\n",
              "      <th>Open</th>\n",
              "      <th>Close</th>\n",
              "      <th>Volume</th>\n",
              "      <th>Adj Close</th>\n",
              "    </tr>\n",
              "    <tr>\n",
              "      <th>Date</th>\n",
              "      <th></th>\n",
              "      <th></th>\n",
              "      <th></th>\n",
              "      <th></th>\n",
              "      <th></th>\n",
              "      <th></th>\n",
              "    </tr>\n",
              "  </thead>\n",
              "  <tbody>\n",
              "    <tr>\n",
              "      <th>2016-03-17</th>\n",
              "      <td>160.0</td>\n",
              "      <td>157.5</td>\n",
              "      <td>159.5</td>\n",
              "      <td>158.5</td>\n",
              "      <td>48193000.0</td>\n",
              "      <td>132.049561</td>\n",
              "    </tr>\n",
              "    <tr>\n",
              "      <th>2016-03-18</th>\n",
              "      <td>159.5</td>\n",
              "      <td>158.5</td>\n",
              "      <td>158.5</td>\n",
              "      <td>159.5</td>\n",
              "      <td>55975000.0</td>\n",
              "      <td>132.882690</td>\n",
              "    </tr>\n",
              "    <tr>\n",
              "      <th>2016-03-21</th>\n",
              "      <td>160.0</td>\n",
              "      <td>158.0</td>\n",
              "      <td>160.0</td>\n",
              "      <td>160.0</td>\n",
              "      <td>26100000.0</td>\n",
              "      <td>133.299240</td>\n",
              "    </tr>\n",
              "    <tr>\n",
              "      <th>2016-03-22</th>\n",
              "      <td>159.5</td>\n",
              "      <td>157.0</td>\n",
              "      <td>159.5</td>\n",
              "      <td>158.5</td>\n",
              "      <td>25809000.0</td>\n",
              "      <td>132.049561</td>\n",
              "    </tr>\n",
              "    <tr>\n",
              "      <th>2016-03-23</th>\n",
              "      <td>159.5</td>\n",
              "      <td>158.0</td>\n",
              "      <td>158.5</td>\n",
              "      <td>159.5</td>\n",
              "      <td>27478000.0</td>\n",
              "      <td>132.882690</td>\n",
              "    </tr>\n",
              "    <tr>\n",
              "      <th>...</th>\n",
              "      <td>...</td>\n",
              "      <td>...</td>\n",
              "      <td>...</td>\n",
              "      <td>...</td>\n",
              "      <td>...</td>\n",
              "      <td>...</td>\n",
              "    </tr>\n",
              "    <tr>\n",
              "      <th>2021-03-09</th>\n",
              "      <td>595.0</td>\n",
              "      <td>585.0</td>\n",
              "      <td>585.0</td>\n",
              "      <td>595.0</td>\n",
              "      <td>68768861.0</td>\n",
              "      <td>595.000000</td>\n",
              "    </tr>\n",
              "    <tr>\n",
              "      <th>2021-03-10</th>\n",
              "      <td>601.0</td>\n",
              "      <td>593.0</td>\n",
              "      <td>601.0</td>\n",
              "      <td>597.0</td>\n",
              "      <td>40146301.0</td>\n",
              "      <td>597.000000</td>\n",
              "    </tr>\n",
              "    <tr>\n",
              "      <th>2021-03-11</th>\n",
              "      <td>612.0</td>\n",
              "      <td>595.0</td>\n",
              "      <td>596.0</td>\n",
              "      <td>609.0</td>\n",
              "      <td>54416046.0</td>\n",
              "      <td>609.000000</td>\n",
              "    </tr>\n",
              "    <tr>\n",
              "      <th>2021-03-12</th>\n",
              "      <td>618.0</td>\n",
              "      <td>609.0</td>\n",
              "      <td>615.0</td>\n",
              "      <td>614.0</td>\n",
              "      <td>33168846.0</td>\n",
              "      <td>614.000000</td>\n",
              "    </tr>\n",
              "    <tr>\n",
              "      <th>2021-03-16</th>\n",
              "      <td>612.0</td>\n",
              "      <td>607.0</td>\n",
              "      <td>610.0</td>\n",
              "      <td>608.0</td>\n",
              "      <td>13336780.0</td>\n",
              "      <td>608.000000</td>\n",
              "    </tr>\n",
              "  </tbody>\n",
              "</table>\n",
              "<p>1216 rows × 6 columns</p>\n",
              "</div>"
            ],
            "text/plain": [
              "             High    Low   Open  Close      Volume   Adj Close\n",
              "Date                                                          \n",
              "2016-03-17  160.0  157.5  159.5  158.5  48193000.0  132.049561\n",
              "2016-03-18  159.5  158.5  158.5  159.5  55975000.0  132.882690\n",
              "2016-03-21  160.0  158.0  160.0  160.0  26100000.0  133.299240\n",
              "2016-03-22  159.5  157.0  159.5  158.5  25809000.0  132.049561\n",
              "2016-03-23  159.5  158.0  158.5  159.5  27478000.0  132.882690\n",
              "...           ...    ...    ...    ...         ...         ...\n",
              "2021-03-09  595.0  585.0  585.0  595.0  68768861.0  595.000000\n",
              "2021-03-10  601.0  593.0  601.0  597.0  40146301.0  597.000000\n",
              "2021-03-11  612.0  595.0  596.0  609.0  54416046.0  609.000000\n",
              "2021-03-12  618.0  609.0  615.0  614.0  33168846.0  614.000000\n",
              "2021-03-16  612.0  607.0  610.0  608.0  13336780.0  608.000000\n",
              "\n",
              "[1216 rows x 6 columns]"
            ]
          },
          "metadata": {
            "tags": []
          },
          "execution_count": 7
        }
      ]
    },
    {
      "cell_type": "code",
      "metadata": {
        "id": "QS5jv5sa6jER"
      },
      "source": [
        "df['ma5']=df.iloc[:,3].rolling(5).mean()"
      ],
      "execution_count": 19,
      "outputs": []
    },
    {
      "cell_type": "code",
      "metadata": {
        "id": "qYu0mllH8zdx",
        "outputId": "16305491-3716-489a-a621-4e9f4aa6bbbc",
        "colab": {
          "base_uri": "https://localhost:8080/",
          "height": 619
        }
      },
      "source": [
        "df"
      ],
      "execution_count": 20,
      "outputs": [
        {
          "output_type": "execute_result",
          "data": {
            "text/html": [
              "<div>\n",
              "<style scoped>\n",
              "    .dataframe tbody tr th:only-of-type {\n",
              "        vertical-align: middle;\n",
              "    }\n",
              "\n",
              "    .dataframe tbody tr th {\n",
              "        vertical-align: top;\n",
              "    }\n",
              "\n",
              "    .dataframe thead th {\n",
              "        text-align: right;\n",
              "    }\n",
              "</style>\n",
              "<table border=\"1\" class=\"dataframe\">\n",
              "  <thead>\n",
              "    <tr style=\"text-align: right;\">\n",
              "      <th></th>\n",
              "      <th>High</th>\n",
              "      <th>Low</th>\n",
              "      <th>Open</th>\n",
              "      <th>Close</th>\n",
              "      <th>Volume</th>\n",
              "      <th>Adj Close</th>\n",
              "      <th>ma5</th>\n",
              "      <th>ma20</th>\n",
              "      <th>ma60</th>\n",
              "    </tr>\n",
              "    <tr>\n",
              "      <th>Date</th>\n",
              "      <th></th>\n",
              "      <th></th>\n",
              "      <th></th>\n",
              "      <th></th>\n",
              "      <th></th>\n",
              "      <th></th>\n",
              "      <th></th>\n",
              "      <th></th>\n",
              "      <th></th>\n",
              "    </tr>\n",
              "  </thead>\n",
              "  <tbody>\n",
              "    <tr>\n",
              "      <th>2016-03-17</th>\n",
              "      <td>160.0</td>\n",
              "      <td>157.5</td>\n",
              "      <td>159.5</td>\n",
              "      <td>158.5</td>\n",
              "      <td>48193000.0</td>\n",
              "      <td>132.049561</td>\n",
              "      <td>NaN</td>\n",
              "      <td>NaN</td>\n",
              "      <td>NaN</td>\n",
              "    </tr>\n",
              "    <tr>\n",
              "      <th>2016-03-18</th>\n",
              "      <td>159.5</td>\n",
              "      <td>158.5</td>\n",
              "      <td>158.5</td>\n",
              "      <td>159.5</td>\n",
              "      <td>55975000.0</td>\n",
              "      <td>132.882690</td>\n",
              "      <td>NaN</td>\n",
              "      <td>NaN</td>\n",
              "      <td>NaN</td>\n",
              "    </tr>\n",
              "    <tr>\n",
              "      <th>2016-03-21</th>\n",
              "      <td>160.0</td>\n",
              "      <td>158.0</td>\n",
              "      <td>160.0</td>\n",
              "      <td>160.0</td>\n",
              "      <td>26100000.0</td>\n",
              "      <td>133.299240</td>\n",
              "      <td>NaN</td>\n",
              "      <td>NaN</td>\n",
              "      <td>NaN</td>\n",
              "    </tr>\n",
              "    <tr>\n",
              "      <th>2016-03-22</th>\n",
              "      <td>159.5</td>\n",
              "      <td>157.0</td>\n",
              "      <td>159.5</td>\n",
              "      <td>158.5</td>\n",
              "      <td>25809000.0</td>\n",
              "      <td>132.049561</td>\n",
              "      <td>NaN</td>\n",
              "      <td>NaN</td>\n",
              "      <td>NaN</td>\n",
              "    </tr>\n",
              "    <tr>\n",
              "      <th>2016-03-23</th>\n",
              "      <td>159.5</td>\n",
              "      <td>158.0</td>\n",
              "      <td>158.5</td>\n",
              "      <td>159.5</td>\n",
              "      <td>27478000.0</td>\n",
              "      <td>132.882690</td>\n",
              "      <td>159.2</td>\n",
              "      <td>NaN</td>\n",
              "      <td>NaN</td>\n",
              "    </tr>\n",
              "    <tr>\n",
              "      <th>...</th>\n",
              "      <td>...</td>\n",
              "      <td>...</td>\n",
              "      <td>...</td>\n",
              "      <td>...</td>\n",
              "      <td>...</td>\n",
              "      <td>...</td>\n",
              "      <td>...</td>\n",
              "      <td>...</td>\n",
              "      <td>...</td>\n",
              "    </tr>\n",
              "    <tr>\n",
              "      <th>2021-03-09</th>\n",
              "      <td>595.0</td>\n",
              "      <td>585.0</td>\n",
              "      <td>585.0</td>\n",
              "      <td>595.0</td>\n",
              "      <td>68768861.0</td>\n",
              "      <td>595.000000</td>\n",
              "      <td>603.4</td>\n",
              "      <td>624.05</td>\n",
              "      <td>577.716667</td>\n",
              "    </tr>\n",
              "    <tr>\n",
              "      <th>2021-03-10</th>\n",
              "      <td>601.0</td>\n",
              "      <td>593.0</td>\n",
              "      <td>601.0</td>\n",
              "      <td>597.0</td>\n",
              "      <td>40146301.0</td>\n",
              "      <td>597.000000</td>\n",
              "      <td>598.4</td>\n",
              "      <td>624.35</td>\n",
              "      <td>579.383333</td>\n",
              "    </tr>\n",
              "    <tr>\n",
              "      <th>2021-03-11</th>\n",
              "      <td>612.0</td>\n",
              "      <td>595.0</td>\n",
              "      <td>596.0</td>\n",
              "      <td>609.0</td>\n",
              "      <td>54416046.0</td>\n",
              "      <td>609.000000</td>\n",
              "      <td>600.0</td>\n",
              "      <td>624.25</td>\n",
              "      <td>581.150000</td>\n",
              "    </tr>\n",
              "    <tr>\n",
              "      <th>2021-03-12</th>\n",
              "      <td>618.0</td>\n",
              "      <td>609.0</td>\n",
              "      <td>615.0</td>\n",
              "      <td>614.0</td>\n",
              "      <td>33168846.0</td>\n",
              "      <td>614.000000</td>\n",
              "      <td>602.6</td>\n",
              "      <td>623.35</td>\n",
              "      <td>582.816667</td>\n",
              "    </tr>\n",
              "    <tr>\n",
              "      <th>2021-03-16</th>\n",
              "      <td>612.0</td>\n",
              "      <td>607.0</td>\n",
              "      <td>610.0</td>\n",
              "      <td>608.0</td>\n",
              "      <td>13336780.0</td>\n",
              "      <td>608.000000</td>\n",
              "      <td>604.6</td>\n",
              "      <td>622.25</td>\n",
              "      <td>584.216667</td>\n",
              "    </tr>\n",
              "  </tbody>\n",
              "</table>\n",
              "<p>1216 rows × 9 columns</p>\n",
              "</div>"
            ],
            "text/plain": [
              "             High    Low   Open  Close  ...   Adj Close    ma5    ma20        ma60\n",
              "Date                                    ...                                       \n",
              "2016-03-17  160.0  157.5  159.5  158.5  ...  132.049561    NaN     NaN         NaN\n",
              "2016-03-18  159.5  158.5  158.5  159.5  ...  132.882690    NaN     NaN         NaN\n",
              "2016-03-21  160.0  158.0  160.0  160.0  ...  133.299240    NaN     NaN         NaN\n",
              "2016-03-22  159.5  157.0  159.5  158.5  ...  132.049561    NaN     NaN         NaN\n",
              "2016-03-23  159.5  158.0  158.5  159.5  ...  132.882690  159.2     NaN         NaN\n",
              "...           ...    ...    ...    ...  ...         ...    ...     ...         ...\n",
              "2021-03-09  595.0  585.0  585.0  595.0  ...  595.000000  603.4  624.05  577.716667\n",
              "2021-03-10  601.0  593.0  601.0  597.0  ...  597.000000  598.4  624.35  579.383333\n",
              "2021-03-11  612.0  595.0  596.0  609.0  ...  609.000000  600.0  624.25  581.150000\n",
              "2021-03-12  618.0  609.0  615.0  614.0  ...  614.000000  602.6  623.35  582.816667\n",
              "2021-03-16  612.0  607.0  610.0  608.0  ...  608.000000  604.6  622.25  584.216667\n",
              "\n",
              "[1216 rows x 9 columns]"
            ]
          },
          "metadata": {
            "tags": []
          },
          "execution_count": 20
        }
      ]
    },
    {
      "cell_type": "code",
      "metadata": {
        "id": "bS5hxpSj6w3w"
      },
      "source": [
        "df['ma20']=df.iloc[:,3].rolling(20).mean()"
      ],
      "execution_count": 21,
      "outputs": []
    },
    {
      "cell_type": "code",
      "metadata": {
        "id": "He-OWe71-6pR"
      },
      "source": [
        "df['ma60']=df.iloc[:,3].rolling(60).mean()"
      ],
      "execution_count": 22,
      "outputs": []
    },
    {
      "cell_type": "code",
      "metadata": {
        "colab": {
          "base_uri": "https://localhost:8080/",
          "height": 446
        },
        "id": "s3bK_wph6qvg",
        "outputId": "3eb224d9-268e-4be6-e552-7b058acb1986"
      },
      "source": [
        "df[['Close', 'ma5','ma20','ma60']]"
      ],
      "execution_count": 11,
      "outputs": [
        {
          "output_type": "execute_result",
          "data": {
            "text/html": [
              "<div>\n",
              "<style scoped>\n",
              "    .dataframe tbody tr th:only-of-type {\n",
              "        vertical-align: middle;\n",
              "    }\n",
              "\n",
              "    .dataframe tbody tr th {\n",
              "        vertical-align: top;\n",
              "    }\n",
              "\n",
              "    .dataframe thead th {\n",
              "        text-align: right;\n",
              "    }\n",
              "</style>\n",
              "<table border=\"1\" class=\"dataframe\">\n",
              "  <thead>\n",
              "    <tr style=\"text-align: right;\">\n",
              "      <th></th>\n",
              "      <th>Close</th>\n",
              "      <th>ma5</th>\n",
              "      <th>ma20</th>\n",
              "      <th>ma60</th>\n",
              "    </tr>\n",
              "    <tr>\n",
              "      <th>Date</th>\n",
              "      <th></th>\n",
              "      <th></th>\n",
              "      <th></th>\n",
              "      <th></th>\n",
              "    </tr>\n",
              "  </thead>\n",
              "  <tbody>\n",
              "    <tr>\n",
              "      <th>2016-03-17</th>\n",
              "      <td>158.5</td>\n",
              "      <td>NaN</td>\n",
              "      <td>NaN</td>\n",
              "      <td>NaN</td>\n",
              "    </tr>\n",
              "    <tr>\n",
              "      <th>2016-03-18</th>\n",
              "      <td>159.5</td>\n",
              "      <td>NaN</td>\n",
              "      <td>NaN</td>\n",
              "      <td>NaN</td>\n",
              "    </tr>\n",
              "    <tr>\n",
              "      <th>2016-03-21</th>\n",
              "      <td>160.0</td>\n",
              "      <td>NaN</td>\n",
              "      <td>NaN</td>\n",
              "      <td>NaN</td>\n",
              "    </tr>\n",
              "    <tr>\n",
              "      <th>2016-03-22</th>\n",
              "      <td>158.5</td>\n",
              "      <td>NaN</td>\n",
              "      <td>NaN</td>\n",
              "      <td>NaN</td>\n",
              "    </tr>\n",
              "    <tr>\n",
              "      <th>2016-03-23</th>\n",
              "      <td>159.5</td>\n",
              "      <td>159.2</td>\n",
              "      <td>NaN</td>\n",
              "      <td>NaN</td>\n",
              "    </tr>\n",
              "    <tr>\n",
              "      <th>...</th>\n",
              "      <td>...</td>\n",
              "      <td>...</td>\n",
              "      <td>...</td>\n",
              "      <td>...</td>\n",
              "    </tr>\n",
              "    <tr>\n",
              "      <th>2021-03-09</th>\n",
              "      <td>595.0</td>\n",
              "      <td>603.4</td>\n",
              "      <td>624.05</td>\n",
              "      <td>577.716667</td>\n",
              "    </tr>\n",
              "    <tr>\n",
              "      <th>2021-03-10</th>\n",
              "      <td>597.0</td>\n",
              "      <td>598.4</td>\n",
              "      <td>624.35</td>\n",
              "      <td>579.383333</td>\n",
              "    </tr>\n",
              "    <tr>\n",
              "      <th>2021-03-11</th>\n",
              "      <td>609.0</td>\n",
              "      <td>600.0</td>\n",
              "      <td>624.25</td>\n",
              "      <td>581.150000</td>\n",
              "    </tr>\n",
              "    <tr>\n",
              "      <th>2021-03-12</th>\n",
              "      <td>614.0</td>\n",
              "      <td>602.6</td>\n",
              "      <td>623.35</td>\n",
              "      <td>582.816667</td>\n",
              "    </tr>\n",
              "    <tr>\n",
              "      <th>2021-03-16</th>\n",
              "      <td>608.0</td>\n",
              "      <td>604.6</td>\n",
              "      <td>622.25</td>\n",
              "      <td>584.216667</td>\n",
              "    </tr>\n",
              "  </tbody>\n",
              "</table>\n",
              "<p>1216 rows × 4 columns</p>\n",
              "</div>"
            ],
            "text/plain": [
              "            Close    ma5    ma20        ma60\n",
              "Date                                        \n",
              "2016-03-17  158.5    NaN     NaN         NaN\n",
              "2016-03-18  159.5    NaN     NaN         NaN\n",
              "2016-03-21  160.0    NaN     NaN         NaN\n",
              "2016-03-22  158.5    NaN     NaN         NaN\n",
              "2016-03-23  159.5  159.2     NaN         NaN\n",
              "...           ...    ...     ...         ...\n",
              "2021-03-09  595.0  603.4  624.05  577.716667\n",
              "2021-03-10  597.0  598.4  624.35  579.383333\n",
              "2021-03-11  609.0  600.0  624.25  581.150000\n",
              "2021-03-12  614.0  602.6  623.35  582.816667\n",
              "2021-03-16  608.0  604.6  622.25  584.216667\n",
              "\n",
              "[1216 rows x 4 columns]"
            ]
          },
          "metadata": {
            "tags": []
          },
          "execution_count": 11
        }
      ]
    },
    {
      "cell_type": "code",
      "metadata": {
        "id": "QK-ptjhtGrQ1"
      },
      "source": [
        "df[['Close', 'ma5','ma20','ma60']].to_csv('aaa.csv')"
      ],
      "execution_count": 23,
      "outputs": []
    },
    {
      "cell_type": "code",
      "metadata": {
        "colab": {
          "base_uri": "https://localhost:8080/",
          "height": 619
        },
        "id": "D4yK-AW7BbPg",
        "outputId": "2af3a75a-5af5-4ca6-c598-d781f78919be"
      },
      "source": [
        "df"
      ],
      "execution_count": 12,
      "outputs": [
        {
          "output_type": "execute_result",
          "data": {
            "text/html": [
              "<div>\n",
              "<style scoped>\n",
              "    .dataframe tbody tr th:only-of-type {\n",
              "        vertical-align: middle;\n",
              "    }\n",
              "\n",
              "    .dataframe tbody tr th {\n",
              "        vertical-align: top;\n",
              "    }\n",
              "\n",
              "    .dataframe thead th {\n",
              "        text-align: right;\n",
              "    }\n",
              "</style>\n",
              "<table border=\"1\" class=\"dataframe\">\n",
              "  <thead>\n",
              "    <tr style=\"text-align: right;\">\n",
              "      <th></th>\n",
              "      <th>High</th>\n",
              "      <th>Low</th>\n",
              "      <th>Open</th>\n",
              "      <th>Close</th>\n",
              "      <th>Volume</th>\n",
              "      <th>Adj Close</th>\n",
              "      <th>ma5</th>\n",
              "      <th>ma20</th>\n",
              "      <th>ma60</th>\n",
              "    </tr>\n",
              "    <tr>\n",
              "      <th>Date</th>\n",
              "      <th></th>\n",
              "      <th></th>\n",
              "      <th></th>\n",
              "      <th></th>\n",
              "      <th></th>\n",
              "      <th></th>\n",
              "      <th></th>\n",
              "      <th></th>\n",
              "      <th></th>\n",
              "    </tr>\n",
              "  </thead>\n",
              "  <tbody>\n",
              "    <tr>\n",
              "      <th>2016-03-17</th>\n",
              "      <td>160.0</td>\n",
              "      <td>157.5</td>\n",
              "      <td>159.5</td>\n",
              "      <td>158.5</td>\n",
              "      <td>48193000.0</td>\n",
              "      <td>132.049561</td>\n",
              "      <td>NaN</td>\n",
              "      <td>NaN</td>\n",
              "      <td>NaN</td>\n",
              "    </tr>\n",
              "    <tr>\n",
              "      <th>2016-03-18</th>\n",
              "      <td>159.5</td>\n",
              "      <td>158.5</td>\n",
              "      <td>158.5</td>\n",
              "      <td>159.5</td>\n",
              "      <td>55975000.0</td>\n",
              "      <td>132.882690</td>\n",
              "      <td>NaN</td>\n",
              "      <td>NaN</td>\n",
              "      <td>NaN</td>\n",
              "    </tr>\n",
              "    <tr>\n",
              "      <th>2016-03-21</th>\n",
              "      <td>160.0</td>\n",
              "      <td>158.0</td>\n",
              "      <td>160.0</td>\n",
              "      <td>160.0</td>\n",
              "      <td>26100000.0</td>\n",
              "      <td>133.299240</td>\n",
              "      <td>NaN</td>\n",
              "      <td>NaN</td>\n",
              "      <td>NaN</td>\n",
              "    </tr>\n",
              "    <tr>\n",
              "      <th>2016-03-22</th>\n",
              "      <td>159.5</td>\n",
              "      <td>157.0</td>\n",
              "      <td>159.5</td>\n",
              "      <td>158.5</td>\n",
              "      <td>25809000.0</td>\n",
              "      <td>132.049561</td>\n",
              "      <td>NaN</td>\n",
              "      <td>NaN</td>\n",
              "      <td>NaN</td>\n",
              "    </tr>\n",
              "    <tr>\n",
              "      <th>2016-03-23</th>\n",
              "      <td>159.5</td>\n",
              "      <td>158.0</td>\n",
              "      <td>158.5</td>\n",
              "      <td>159.5</td>\n",
              "      <td>27478000.0</td>\n",
              "      <td>132.882690</td>\n",
              "      <td>159.2</td>\n",
              "      <td>NaN</td>\n",
              "      <td>NaN</td>\n",
              "    </tr>\n",
              "    <tr>\n",
              "      <th>...</th>\n",
              "      <td>...</td>\n",
              "      <td>...</td>\n",
              "      <td>...</td>\n",
              "      <td>...</td>\n",
              "      <td>...</td>\n",
              "      <td>...</td>\n",
              "      <td>...</td>\n",
              "      <td>...</td>\n",
              "      <td>...</td>\n",
              "    </tr>\n",
              "    <tr>\n",
              "      <th>2021-03-09</th>\n",
              "      <td>595.0</td>\n",
              "      <td>585.0</td>\n",
              "      <td>585.0</td>\n",
              "      <td>595.0</td>\n",
              "      <td>68768861.0</td>\n",
              "      <td>595.000000</td>\n",
              "      <td>603.4</td>\n",
              "      <td>624.05</td>\n",
              "      <td>577.716667</td>\n",
              "    </tr>\n",
              "    <tr>\n",
              "      <th>2021-03-10</th>\n",
              "      <td>601.0</td>\n",
              "      <td>593.0</td>\n",
              "      <td>601.0</td>\n",
              "      <td>597.0</td>\n",
              "      <td>40146301.0</td>\n",
              "      <td>597.000000</td>\n",
              "      <td>598.4</td>\n",
              "      <td>624.35</td>\n",
              "      <td>579.383333</td>\n",
              "    </tr>\n",
              "    <tr>\n",
              "      <th>2021-03-11</th>\n",
              "      <td>612.0</td>\n",
              "      <td>595.0</td>\n",
              "      <td>596.0</td>\n",
              "      <td>609.0</td>\n",
              "      <td>54416046.0</td>\n",
              "      <td>609.000000</td>\n",
              "      <td>600.0</td>\n",
              "      <td>624.25</td>\n",
              "      <td>581.150000</td>\n",
              "    </tr>\n",
              "    <tr>\n",
              "      <th>2021-03-12</th>\n",
              "      <td>618.0</td>\n",
              "      <td>609.0</td>\n",
              "      <td>615.0</td>\n",
              "      <td>614.0</td>\n",
              "      <td>33168846.0</td>\n",
              "      <td>614.000000</td>\n",
              "      <td>602.6</td>\n",
              "      <td>623.35</td>\n",
              "      <td>582.816667</td>\n",
              "    </tr>\n",
              "    <tr>\n",
              "      <th>2021-03-16</th>\n",
              "      <td>612.0</td>\n",
              "      <td>607.0</td>\n",
              "      <td>610.0</td>\n",
              "      <td>608.0</td>\n",
              "      <td>13336780.0</td>\n",
              "      <td>608.000000</td>\n",
              "      <td>604.6</td>\n",
              "      <td>622.25</td>\n",
              "      <td>584.216667</td>\n",
              "    </tr>\n",
              "  </tbody>\n",
              "</table>\n",
              "<p>1216 rows × 9 columns</p>\n",
              "</div>"
            ],
            "text/plain": [
              "             High    Low   Open  Close  ...   Adj Close    ma5    ma20        ma60\n",
              "Date                                    ...                                       \n",
              "2016-03-17  160.0  157.5  159.5  158.5  ...  132.049561    NaN     NaN         NaN\n",
              "2016-03-18  159.5  158.5  158.5  159.5  ...  132.882690    NaN     NaN         NaN\n",
              "2016-03-21  160.0  158.0  160.0  160.0  ...  133.299240    NaN     NaN         NaN\n",
              "2016-03-22  159.5  157.0  159.5  158.5  ...  132.049561    NaN     NaN         NaN\n",
              "2016-03-23  159.5  158.0  158.5  159.5  ...  132.882690  159.2     NaN         NaN\n",
              "...           ...    ...    ...    ...  ...         ...    ...     ...         ...\n",
              "2021-03-09  595.0  585.0  585.0  595.0  ...  595.000000  603.4  624.05  577.716667\n",
              "2021-03-10  601.0  593.0  601.0  597.0  ...  597.000000  598.4  624.35  579.383333\n",
              "2021-03-11  612.0  595.0  596.0  609.0  ...  609.000000  600.0  624.25  581.150000\n",
              "2021-03-12  618.0  609.0  615.0  614.0  ...  614.000000  602.6  623.35  582.816667\n",
              "2021-03-16  612.0  607.0  610.0  608.0  ...  608.000000  604.6  622.25  584.216667\n",
              "\n",
              "[1216 rows x 9 columns]"
            ]
          },
          "metadata": {
            "tags": []
          },
          "execution_count": 12
        }
      ]
    },
    {
      "cell_type": "code",
      "metadata": {
        "colab": {
          "base_uri": "https://localhost:8080/",
          "height": 331
        },
        "id": "B0xSq5Sb7GPo",
        "outputId": "443f84b9-0cff-485c-bf62-0132e1961d14"
      },
      "source": [
        "df[['Close', 'ma20','ma60']].plot(figsize=(20,10))"
      ],
      "execution_count": 13,
      "outputs": [
        {
          "output_type": "execute_result",
          "data": {
            "text/plain": [
              "<matplotlib.axes._subplots.AxesSubplot at 0x7f23f890af90>"
            ]
          },
          "metadata": {
            "tags": []
          },
          "execution_count": 13
        },
        {
          "output_type": "display_data",
          "data": {
            "image/png": "[encoded data removed]",
            "text/plain": [
              "<Figure size 1440x720 with 1 Axes>"
            ]
          },
          "metadata": {
            "tags": [],
            "needs_background": "light"
          }
        }
      ]
    },
    {
      "cell_type": "code",
      "metadata": {
        "id": "Fu1N_qG64mHK"
      },
      "source": [
        "df1=df.Close"
      ],
      "execution_count": 14,
      "outputs": []
    },
    {
      "cell_type": "code",
      "metadata": {
        "colab": {
          "base_uri": "https://localhost:8080/"
        },
        "id": "tUEtDiML5jx3",
        "outputId": "35939ec4-69e1-4ab3-f1a0-8dfffbb020f3"
      },
      "source": [
        "df.Close"
      ],
      "execution_count": 15,
      "outputs": [
        {
          "output_type": "execute_result",
          "data": {
            "text/plain": [
              "Date\n",
              "2016-03-17    158.5\n",
              "2016-03-18    159.5\n",
              "2016-03-21    160.0\n",
              "2016-03-22    158.5\n",
              "2016-03-23    159.5\n",
              "              ...  \n",
              "2021-03-09    595.0\n",
              "2021-03-10    597.0\n",
              "2021-03-11    609.0\n",
              "2021-03-12    614.0\n",
              "2021-03-16    608.0\n",
              "Name: Close, Length: 1216, dtype: float64"
            ]
          },
          "metadata": {
            "tags": []
          },
          "execution_count": 15
        }
      ]
    },
    {
      "cell_type": "code",
      "metadata": {
        "colab": {
          "base_uri": "https://localhost:8080/"
        },
        "id": "rS3AZrrP4zAh",
        "outputId": "7315f740-be52-436a-9306-230c31c4a346"
      },
      "source": [
        "df1"
      ],
      "execution_count": 16,
      "outputs": [
        {
          "output_type": "execute_result",
          "data": {
            "text/plain": [
              "Date\n",
              "2016-03-17    158.5\n",
              "2016-03-18    159.5\n",
              "2016-03-21    160.0\n",
              "2016-03-22    158.5\n",
              "2016-03-23    159.5\n",
              "              ...  \n",
              "2021-03-09    595.0\n",
              "2021-03-10    597.0\n",
              "2021-03-11    609.0\n",
              "2021-03-12    614.0\n",
              "2021-03-16    608.0\n",
              "Name: Close, Length: 1216, dtype: float64"
            ]
          },
          "metadata": {
            "tags": []
          },
          "execution_count": 16
        }
      ]
    },
    {
      "cell_type": "code",
      "metadata": {
        "id": "WZ2DqIes4q-h"
      },
      "source": [
        "df1.to_csv('aaa.csv')"
      ],
      "execution_count": 17,
      "outputs": []
    },
    {
      "cell_type": "code",
      "metadata": {
        "colab": {
          "base_uri": "https://localhost:8080/",
          "height": 331
        },
        "id": "F3MtS5sX3L3-",
        "outputId": "858b788c-b671-46ae-cde6-3ca8a029c9e9"
      },
      "source": [
        "df.Close.plot(figsize=(20,10))"
      ],
      "execution_count": 18,
      "outputs": [
        {
          "output_type": "execute_result",
          "data": {
            "text/plain": [
              "<matplotlib.axes._subplots.AxesSubplot at 0x7f23f9e5f610>"
            ]
          },
          "metadata": {
            "tags": []
          },
          "execution_count": 18
        },
        {
          "output_type": "display_data",
          "data": {
            "image/png": "[encoded data removed]",
            "text/plain": [
              "<Figure size 1440x720 with 1 Axes>"
            ]
          },
          "metadata": {
            "tags": [],
            "needs_background": "light"
          }
        }
      ]
    },
    {
      "cell_type": "code",
      "metadata": {
        "id": "SfA3mX4U2bhb"
      },
      "source": [
        ""
      ],
      "execution_count": 18,
      "outputs": []
    },
    {
      "cell_type": "code",
      "metadata": {
        "id": "84_Ahm6j2b9K"
      },
      "source": [
        ""
      ],
      "execution_count": 18,
      "outputs": []
    },
    {
      "cell_type": "code",
      "metadata": {
        "id": "nN_Ipibl0wbR"
      },
      "source": [
        ""
      ],
      "execution_count": 18,
      "outputs": []
    },
    {
      "cell_type": "code",
      "metadata": {
        "id": "8-40VoZd0wd5"
      },
      "source": [
        ""
      ],
      "execution_count": 18,
      "outputs": []
    },
    {
      "cell_type": "code",
      "metadata": {
        "id": "398K0ScS0wgh"
      },
      "source": [
        ""
      ],
      "execution_count": 18,
      "outputs": []
    }
  ]
}