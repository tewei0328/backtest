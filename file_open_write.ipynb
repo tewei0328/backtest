{
  "nbformat": 4,
  "nbformat_minor": 0,
  "metadata": {
    "colab": {
      "name": "file_open_write.ipynb",
      "provenance": [],
      "authorship_tag": "ABX9TyNGXAkw1nVClG3kvQMQLX7I",
      "include_colab_link": true
    },
    "kernelspec": {
      "name": "python3",
      "display_name": "Python 3"
    },
    "language_info": {
      "name": "python"
    }
  },
  "cells": [
    {
      "cell_type": "markdown",
      "metadata": {
        "id": "view-in-github",
        "colab_type": "text"
      },
      "source": [
        "<a href=\"https://colab.research.google.com/github/tewei0328/backtest/blob/main/file_open_write.ipynb\" target=\"_parent\"><img src=\"https://colab.research.google.com/assets/colab-badge.svg\" alt=\"Open In Colab\"/></a>"
      ]
    },
    {
      "cell_type": "markdown",
      "metadata": {
        "id": "hzEbi2IhenLQ"
      },
      "source": [
        "#參考資料: Python 初學第十二講—檔案處理\n",
        "https://medium.com/ccclub/ccclub-python-for-beginners-tutorial-bf0648108581"
      ]
    },
    {
      "cell_type": "code",
      "metadata": {
        "id": "0bIYJgfGczDY"
      },
      "source": [
        "f=open(\"test.txt\",'w')"
      ],
      "execution_count": 7,
      "outputs": []
    },
    {
      "cell_type": "code",
      "metadata": {
        "colab": {
          "base_uri": "https://localhost:8080/"
        },
        "id": "vQbkhrXOczF4",
        "outputId": "0b3108d9-ca6f-4a0c-fd61-3a21a0f229c1"
      },
      "source": [
        "f.write(\"test\")"
      ],
      "execution_count": 8,
      "outputs": [
        {
          "output_type": "execute_result",
          "data": {
            "text/plain": [
              "4"
            ]
          },
          "metadata": {
            "tags": []
          },
          "execution_count": 8
        }
      ]
    },
    {
      "cell_type": "code",
      "metadata": {
        "colab": {
          "base_uri": "https://localhost:8080/"
        },
        "id": "flq4-XlBeLJR",
        "outputId": "79422e80-c880-4ccf-e990-2df4a0f87a68"
      },
      "source": [
        "f.write(\"test2\\ntest3\")"
      ],
      "execution_count": 9,
      "outputs": [
        {
          "output_type": "execute_result",
          "data": {
            "text/plain": [
              "11"
            ]
          },
          "metadata": {
            "tags": []
          },
          "execution_count": 9
        }
      ]
    },
    {
      "cell_type": "code",
      "metadata": {
        "id": "1Al1cXXwczII"
      },
      "source": [
        "f.close()"
      ],
      "execution_count": 10,
      "outputs": []
    },
    {
      "cell_type": "code",
      "metadata": {
        "id": "9B_lXKQMczLQ"
      },
      "source": [
        ""
      ],
      "execution_count": null,
      "outputs": []
    }
  ]
}