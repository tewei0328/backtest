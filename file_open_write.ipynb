{
  "nbformat": 4,
  "nbformat_minor": 0,
  "metadata": {
    "colab": {
      "name": "file_open_write.ipynb",
      "provenance": [],
      "authorship_tag": "ABX9TyMd2Y8jsiotDc5HftxvZqeI",
      "include_colab_link": true
    },
    "kernelspec": {
      "name": "python3",
      "display_name": "Python 3"
    },
    "language_info": {
      "name": "python"
    }
  },
  "cells": [
    {
      "cell_type": "markdown",
      "metadata": {
        "id": "view-in-github",
        "colab_type": "text"
      },
      "source": [
        "<a href=\"https://colab.research.google.com/github/tewei0328/backtest/blob/main/file_open_write.ipynb\" target=\"_parent\"><img src=\"https://colab.research.google.com/assets/colab-badge.svg\" alt=\"Open In Colab\"/></a>"
      ]
    },
    {
      "cell_type": "markdown",
      "metadata": {
        "id": "hzEbi2IhenLQ"
      },
      "source": [
        "#參考資料: Python 初學第十二講—檔案處理\n",
        "https://medium.com/ccclub/ccclub-python-for-beginners-tutorial-bf0648108581\n",
        "\n",
        "Python 提供了數種開啟檔案的模式，包含僅供讀取、可以覆寫檔案等等。以下將對於其中三種稍作簡介：\n",
        "\n",
        "- “r” 唯讀模式：當我們以 mode 為 “r” 開啟檔案時，意即我們只能從指定的檔案讀取資料，並不能夠對這個檔案的內容進行更動。與此同時，如果我們所指定的檔案不存在，將會產生 FileNotFoundError 的例外。\n",
        "- “w” 寫入模式（覆寫）：而如果我們以 “w” 為開啟檔案的模式時，意即要來進行檔案的寫入，會在開啟的位置直接覆蓋掉原本的檔案。如果我們所指定的檔案路徑/名稱不存在，會新增一個新的檔案。\n",
        "- “a” 寫入模式（續寫）：但若我們設定開啟檔案的模式為 “a”，是指在此模式下開啟檔案要進行寫入時，會從原本的檔案最後繼續進行寫入。"
      ]
    },
    {
      "cell_type": "code",
      "metadata": {
        "id": "0bIYJgfGczDY"
      },
      "source": [
        "f=open(\"test.txt\",'w')"
      ],
      "execution_count": 7,
      "outputs": []
    },
    {
      "cell_type": "code",
      "metadata": {
        "colab": {
          "base_uri": "https://localhost:8080/"
        },
        "id": "vQbkhrXOczF4",
        "outputId": "0b3108d9-ca6f-4a0c-fd61-3a21a0f229c1"
      },
      "source": [
        "f.write(\"test\")"
      ],
      "execution_count": 8,
      "outputs": [
        {
          "output_type": "execute_result",
          "data": {
            "text/plain": [
              "4"
            ]
          },
          "metadata": {
            "tags": []
          },
          "execution_count": 8
        }
      ]
    },
    {
      "cell_type": "code",
      "metadata": {
        "colab": {
          "base_uri": "https://localhost:8080/"
        },
        "id": "flq4-XlBeLJR",
        "outputId": "79422e80-c880-4ccf-e990-2df4a0f87a68"
      },
      "source": [
        "f.write(\"test2\\ntest3\")"
      ],
      "execution_count": 9,
      "outputs": [
        {
          "output_type": "execute_result",
          "data": {
            "text/plain": [
              "11"
            ]
          },
          "metadata": {
            "tags": []
          },
          "execution_count": 9
        }
      ]
    },
    {
      "cell_type": "code",
      "metadata": {
        "id": "1Al1cXXwczII"
      },
      "source": [
        "f.close()"
      ],
      "execution_count": 10,
      "outputs": []
    },
    {
      "cell_type": "code",
      "metadata": {
        "id": "9B_lXKQMczLQ"
      },
      "source": [
        ""
      ],
      "execution_count": null,
      "outputs": []
    }
  ]
}