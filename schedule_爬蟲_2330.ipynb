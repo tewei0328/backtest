{
  "nbformat": 4,
  "nbformat_minor": 0,
  "metadata": {
    "colab": {
      "name": "schedule-爬蟲-2330.ipynb",
      "provenance": [],
      "collapsed_sections": [],
      "authorship_tag": "ABX9TyO9zOIigMkoMowUGCS/MCh+",
      "include_colab_link": true
    },
    "kernelspec": {
      "name": "python3",
      "display_name": "Python 3"
    }
  },
  "cells": [
    {
      "cell_type": "markdown",
      "metadata": {
        "id": "view-in-github",
        "colab_type": "text"
      },
      "source": [
        "<a href=\"https://colab.research.google.com/github/tewei0328/backtest/blob/main/schedule_%E7%88%AC%E8%9F%B2_2330.ipynb\" target=\"_parent\"><img src=\"https://colab.research.google.com/assets/colab-badge.svg\" alt=\"Open In Colab\"/></a>"
      ]
    },
    {
      "cell_type": "code",
      "metadata": {
        "id": "BOwv0sNfAKq4",
        "colab": {
          "base_uri": "https://localhost:8080/",
          "height": 34
        },
        "outputId": "5866be6a-4a07-45f5-d830-0f1fc25ab7bd"
      },
      "source": [
        "import requests\n",
        "from bs4 import BeautifulSoup\n",
        "\n",
        "stock='2330'\n",
        " # 要抓取的網址\n",
        "url = 'https://tw.stock.yahoo.com/q/q?s=' + stock \n",
        "#請求網站\n",
        "list_req = requests.get(url)\n",
        "#將整個網站的程式碼爬下來\n",
        "soup = BeautifulSoup(list_req.content, \"html.parser\")\n",
        "#找到b這個標籤\n",
        "#getstock= soup.find('b').text #只抓到第一個<b>\n",
        "#print(getstock)\n",
        "\n",
        "getstock= soup.findAll('b')[1].text #抓到收盤價格\n",
        "print(getstock)"
      ],
      "execution_count": null,
      "outputs": [
        {
          "output_type": "stream",
          "text": [
            "267.5\n"
          ],
          "name": "stdout"
        }
      ]
    },
    {
      "cell_type": "code",
      "metadata": {
        "id": "rWrZ01rezsKN",
        "colab": {
          "base_uri": "https://localhost:8080/",
          "height": 34
        },
        "outputId": "cf9befc1-c5d8-43f4-b6cf-9d6d87cde4cd"
      },
      "source": [
        "import requests\n",
        "from bs4 import BeautifulSoup\n",
        "\n",
        "stock='2330'\n",
        " # 要抓取的網址\n",
        "url = 'https://tw.stock.yahoo.com/q/q?s=' + stock \n",
        "#請求網站\n",
        "list_req = requests.get(url)\n",
        "#將整個網站的程式碼爬下來\n",
        "soup = BeautifulSoup(list_req.content, \"html.parser\")\n",
        "#找到b這個標籤\n",
        "getstock= soup.find('b').text #只抓到第一個<b>\n",
        "print(getstock)\n",
        "\n",
        "#getstock= soup.findAll('b')[1].text #抓到收盤價格\n",
        "#print(getstock)"
      ],
      "execution_count": null,
      "outputs": [
        {
          "output_type": "stream",
          "text": [
            "信箱\n"
          ],
          "name": "stdout"
        }
      ]
    },
    {
      "cell_type": "code",
      "metadata": {
        "id": "fGT02wg-HlnA",
        "colab": {
          "base_uri": "https://localhost:8080/",
          "height": 34
        },
        "outputId": "6d5b4bc6-a8a4-41f9-b384-eab12279d9b8"
      },
      "source": [
        "!pip install schedule"
      ],
      "execution_count": null,
      "outputs": [
        {
          "output_type": "stream",
          "text": [
            "Requirement already satisfied: schedule in /usr/local/lib/python3.6/dist-packages (0.6.0)\n"
          ],
          "name": "stdout"
        }
      ]
    },
    {
      "cell_type": "code",
      "metadata": {
        "id": "m_ARueXBIPE_",
        "colab": {
          "base_uri": "https://localhost:8080/",
          "height": 262
        },
        "outputId": "76fda213-af9f-4fee-d29c-a54a82a8287c"
      },
      "source": [
        "import schedule\n",
        "import time\n",
        "\n",
        "def job():\n",
        "    stock='2330'\n",
        "    # 要抓取的網址\n",
        "    url = 'https://tw.stock.yahoo.com/q/q?s=' + stock \n",
        "    #請求網站\n",
        "    list_req = requests.get(url)\n",
        "    #將整個網站的程式碼爬下來\n",
        "    soup = BeautifulSoup(list_req.content, \"html.parser\")\n",
        "    #找到b這個標籤\n",
        "    getstock= soup.find('b').text #只抓到第一個<b>\n",
        "    print(getstock)\n",
        "\n",
        "    getstock= soup.findAll('b')[1].text #抓到收盤價格\n",
        "    print(getstock)\n",
        "\n",
        "schedule.every(10).seconds.do(job) #每10秒執行一次\n",
        "#schedule.every().hour.do(job) #每小時執行一次\n",
        "#schedule.every().day.at(\"9:30\").do(job) #每天9點30執行一次\n",
        "#schedule.every().monday.do(job) #每週一執行一次\n",
        "#schedule.every().wednesday.at(\"14:45\").do(job) #每週三14點45執行一次\n",
        "\n",
        "# 無窮迴圈\n",
        "while True: \n",
        "    schedule.run_pending()\n",
        "    time.sleep(1)"
      ],
      "execution_count": null,
      "outputs": [
        {
          "output_type": "stream",
          "text": [
            "信箱\n",
            "316.0\n",
            "信箱\n",
            "316.0\n"
          ],
          "name": "stdout"
        },
        {
          "output_type": "error",
          "ename": "KeyboardInterrupt",
          "evalue": "ignored",
          "traceback": [
            "\u001b[0;31m---------------------------------------------------------------------------\u001b[0m",
            "\u001b[0;31mKeyboardInterrupt\u001b[0m                         Traceback (most recent call last)",
            "\u001b[0;32m<ipython-input-3-fcf456646fc1>\u001b[0m in \u001b[0;36m<module>\u001b[0;34m()\u001b[0m\n\u001b[1;32m     26\u001b[0m \u001b[0;32mwhile\u001b[0m \u001b[0;32mTrue\u001b[0m\u001b[0;34m:\u001b[0m\u001b[0;34m\u001b[0m\u001b[0;34m\u001b[0m\u001b[0m\n\u001b[1;32m     27\u001b[0m     \u001b[0mschedule\u001b[0m\u001b[0;34m.\u001b[0m\u001b[0mrun_pending\u001b[0m\u001b[0;34m(\u001b[0m\u001b[0;34m)\u001b[0m\u001b[0;34m\u001b[0m\u001b[0;34m\u001b[0m\u001b[0m\n\u001b[0;32m---> 28\u001b[0;31m     \u001b[0mtime\u001b[0m\u001b[0;34m.\u001b[0m\u001b[0msleep\u001b[0m\u001b[0;34m(\u001b[0m\u001b[0;36m1\u001b[0m\u001b[0;34m)\u001b[0m\u001b[0;34m\u001b[0m\u001b[0;34m\u001b[0m\u001b[0m\n\u001b[0m",
            "\u001b[0;31mKeyboardInterrupt\u001b[0m: "
          ]
        }
      ]
    },
    {
      "cell_type": "code",
      "metadata": {
        "id": "kDlaaBJTHehr",
        "colab": {
          "base_uri": "https://localhost:8080/",
          "height": 212
        },
        "outputId": "a2bdebd3-707c-4771-aee9-f7302145987a"
      },
      "source": [
        "import schedule\n",
        "import time\n",
        "\n",
        "def job():\n",
        "    print(\"I'm working...\")\n",
        "\n",
        "schedule.every(10).seconds.do(job) #每10秒執行一次\n",
        "#schedule.every().hour.do(job) #每小時執行一次\n",
        "#schedule.every().day.at(\"9:30\").do(job) #每天9點30執行一次\n",
        "#schedule.every().monday.do(job) #每週一執行一次\n",
        "#schedule.every().wednesday.at(\"14:45\").do(job) #每週三14點45執行一次\n",
        "\n",
        "# 無窮迴圈\n",
        "while True: \n",
        "    schedule.run_pending()\n",
        "    time.sleep(1)"
      ],
      "execution_count": null,
      "outputs": [
        {
          "output_type": "stream",
          "text": [
            "I'm working...\n"
          ],
          "name": "stdout"
        },
        {
          "output_type": "error",
          "ename": "KeyboardInterrupt",
          "evalue": "ignored",
          "traceback": [
            "\u001b[0;31m---------------------------------------------------------------------------\u001b[0m",
            "\u001b[0;31mKeyboardInterrupt\u001b[0m                         Traceback (most recent call last)",
            "\u001b[0;32m<ipython-input-3-4ffb65798aca>\u001b[0m in \u001b[0;36m<module>\u001b[0;34m()\u001b[0m\n\u001b[1;32m     14\u001b[0m \u001b[0;32mwhile\u001b[0m \u001b[0;32mTrue\u001b[0m\u001b[0;34m:\u001b[0m\u001b[0;34m\u001b[0m\u001b[0;34m\u001b[0m\u001b[0m\n\u001b[1;32m     15\u001b[0m     \u001b[0mschedule\u001b[0m\u001b[0;34m.\u001b[0m\u001b[0mrun_pending\u001b[0m\u001b[0;34m(\u001b[0m\u001b[0;34m)\u001b[0m\u001b[0;34m\u001b[0m\u001b[0;34m\u001b[0m\u001b[0m\n\u001b[0;32m---> 16\u001b[0;31m     \u001b[0mtime\u001b[0m\u001b[0;34m.\u001b[0m\u001b[0msleep\u001b[0m\u001b[0;34m(\u001b[0m\u001b[0;36m1\u001b[0m\u001b[0;34m)\u001b[0m\u001b[0;34m\u001b[0m\u001b[0;34m\u001b[0m\u001b[0m\n\u001b[0m",
            "\u001b[0;31mKeyboardInterrupt\u001b[0m: "
          ]
        }
      ]
    }
  ]
}